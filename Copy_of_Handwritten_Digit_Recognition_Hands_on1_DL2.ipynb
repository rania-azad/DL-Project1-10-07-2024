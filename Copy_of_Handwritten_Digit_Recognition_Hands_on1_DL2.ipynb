{
  "nbformat": 4,
  "nbformat_minor": 0,
  "metadata": {
    "colab": {
      "provenance": []
    },
    "kernelspec": {
      "name": "python3",
      "display_name": "Python 3"
    },
    "language_info": {
      "name": "python"
    }
  },
  "cells": [
    {
      "cell_type": "markdown",
      "source": [
        "# Handwritten Digit Recognition (PART1) 🚀\n",
        "\n",
        "In this notebook, we're embarking on an exciting journey to develop a basic understanding of building and training a neural network for recognizing handwritten digits using PyTorch. We'll dive into the world of the MNIST dataset 📊, a classic in the machine learning community, renowned for its collection of black and white images of digits from 0 to 9.\n",
        "\n",
        "This lab is designed to empower you with key skills and concepts in deep learning:\n",
        "\n",
        "    🧠 Understand Gradient Descent from Scratch\n",
        "    📚 Load Dataset using PyTorch\n",
        "    🏗️ Build a Neural Network using PyTorch\n",
        "    🚀 Start the training script and watch your neural network learn!\n",
        "\n",
        "Let's get started and unlock the potential of neural networks in digit recognition! 💡🔍\n",
        "\n",
        "\n"
      ],
      "metadata": {
        "id": "91Z7g4qzxYtg"
      }
    },
    {
      "cell_type": "markdown",
      "source": [
        "## PART1: Gradient Descent\n",
        "GD is an algorithm that help us find the minimum of the error function. It is an important algorithm used in all deep learning projects.\n",
        "\n",
        "In this first part, we are going to develop GD from scratch to learn how it works. We are going to go through GD using our example in the course (pass/fail)."
      ],
      "metadata": {
        "id": "1Owj1F2eyKWv"
      }
    },
    {
      "cell_type": "code",
      "source": [
        "import matplotlib.pyplot as plt # visualization\n",
        "import numpy as np # numerical operation / fast tensors and arrays\n",
        "import pandas as pd # tabular manipulation"
      ],
      "metadata": {
        "id": "8IUFO_KGyl6P"
      },
      "execution_count": null,
      "outputs": []
    },
    {
      "cell_type": "code",
      "execution_count": null,
      "metadata": {
        "id": "1Mmc1EHUxIaI"
      },
      "outputs": [],
      "source": [
        "# DO NOT TOUCH (These are helper function)\n",
        "# Some helper functions for plotting and drawing lines\n",
        "def plot_points(X, y):\n",
        "    passed = X[np.argwhere(y==1)]\n",
        "    failed = X[np.argwhere(y==0)]\n",
        "    plt.scatter([s[0][0] for s in failed], [s[0][1] for s in failed], s = 25, color = 'blue', edgecolor = 'k')\n",
        "    plt.scatter([s[0][0] for s in passed], [s[0][1] for s in passed], s = 25, color = 'red', edgecolor = 'k')\n",
        "\n",
        "\n",
        "def display(m, b, color='g--'):\n",
        "    plt.xlim(-0.05,1.05)\n",
        "    plt.ylim(-0.05,1.05)\n",
        "    x = np.arange(-10, 10, 0.1)\n",
        "    plt.plot(x, m*x+b, color)"
      ]
    },
    {
      "cell_type": "code",
      "source": [
        "# DO NOT CHANGE\n",
        "# Generating random dataset.\n",
        "import numpy as np\n",
        "import matplotlib.pyplot as plt\n",
        "\n",
        "# Set seed for reproducibility\n",
        "np.random.seed(0)\n",
        "\n",
        "mean_pass = [0.5, 0.8]\n",
        "cov_pass = [[0.01, 0], [0, 0.02]]  # Diagonal covariance\n",
        "\n",
        "mean_fail = [0.3, 0.3]\n",
        "cov_fail = [[0.01, 0], [0, 0.02]]\n",
        "\n",
        "# Generate 'pass' and 'fail' data\n",
        "pass_students = np.random.multivariate_normal(mean_pass, cov_pass, 50)\n",
        "fail_students = np.random.multivariate_normal(mean_fail, cov_fail, 50)\n",
        "\n",
        "# Create dataframes for pass and fail students\n",
        "df_pass = pd.DataFrame(pass_students, columns=['Hours', 'Attendance'])\n",
        "df_pass['Label'] = 1\n",
        "\n",
        "df_fail = pd.DataFrame(fail_students, columns=['Hours', 'Attendance'])\n",
        "df_fail['Label'] = 0\n",
        "\n",
        "# Combine the two dataframes into one\n",
        "df = pd.concat([df_pass, df_fail], ignore_index=True)\n",
        "\n",
        "df.head()"
      ],
      "metadata": {
        "id": "Y_s3DoeHyxnh",
        "colab": {
          "base_uri": "https://localhost:8080/",
          "height": 206
        },
        "outputId": "30ff2839-7a13-4354-edfa-c1e37c8d0bec"
      },
      "execution_count": null,
      "outputs": [
        {
          "output_type": "execute_result",
          "data": {
            "text/plain": [
              "      Hours  Attendance  Label\n",
              "0  0.540016    1.049475      1\n",
              "1  0.724089    0.938414      1\n",
              "2  0.402272    1.064113      1\n",
              "3  0.484864    0.934363      1\n",
              "4  0.541060    0.785403      1"
            ],
            "text/html": [
              "\n",
              "  <div id=\"df-6dfde10b-1898-4cc1-8c00-40848de7daaa\" class=\"colab-df-container\">\n",
              "    <div>\n",
              "<style scoped>\n",
              "    .dataframe tbody tr th:only-of-type {\n",
              "        vertical-align: middle;\n",
              "    }\n",
              "\n",
              "    .dataframe tbody tr th {\n",
              "        vertical-align: top;\n",
              "    }\n",
              "\n",
              "    .dataframe thead th {\n",
              "        text-align: right;\n",
              "    }\n",
              "</style>\n",
              "<table border=\"1\" class=\"dataframe\">\n",
              "  <thead>\n",
              "    <tr style=\"text-align: right;\">\n",
              "      <th></th>\n",
              "      <th>Hours</th>\n",
              "      <th>Attendance</th>\n",
              "      <th>Label</th>\n",
              "    </tr>\n",
              "  </thead>\n",
              "  <tbody>\n",
              "    <tr>\n",
              "      <th>0</th>\n",
              "      <td>0.540016</td>\n",
              "      <td>1.049475</td>\n",
              "      <td>1</td>\n",
              "    </tr>\n",
              "    <tr>\n",
              "      <th>1</th>\n",
              "      <td>0.724089</td>\n",
              "      <td>0.938414</td>\n",
              "      <td>1</td>\n",
              "    </tr>\n",
              "    <tr>\n",
              "      <th>2</th>\n",
              "      <td>0.402272</td>\n",
              "      <td>1.064113</td>\n",
              "      <td>1</td>\n",
              "    </tr>\n",
              "    <tr>\n",
              "      <th>3</th>\n",
              "      <td>0.484864</td>\n",
              "      <td>0.934363</td>\n",
              "      <td>1</td>\n",
              "    </tr>\n",
              "    <tr>\n",
              "      <th>4</th>\n",
              "      <td>0.541060</td>\n",
              "      <td>0.785403</td>\n",
              "      <td>1</td>\n",
              "    </tr>\n",
              "  </tbody>\n",
              "</table>\n",
              "</div>\n",
              "    <div class=\"colab-df-buttons\">\n",
              "\n",
              "  <div class=\"colab-df-container\">\n",
              "    <button class=\"colab-df-convert\" onclick=\"convertToInteractive('df-6dfde10b-1898-4cc1-8c00-40848de7daaa')\"\n",
              "            title=\"Convert this dataframe to an interactive table.\"\n",
              "            style=\"display:none;\">\n",
              "\n",
              "  <svg xmlns=\"http://www.w3.org/2000/svg\" height=\"24px\" viewBox=\"0 -960 960 960\">\n",
              "    <path d=\"M120-120v-720h720v720H120Zm60-500h600v-160H180v160Zm220 220h160v-160H400v160Zm0 220h160v-160H400v160ZM180-400h160v-160H180v160Zm440 0h160v-160H620v160ZM180-180h160v-160H180v160Zm440 0h160v-160H620v160Z\"/>\n",
              "  </svg>\n",
              "    </button>\n",
              "\n",
              "  <style>\n",
              "    .colab-df-container {\n",
              "      display:flex;\n",
              "      gap: 12px;\n",
              "    }\n",
              "\n",
              "    .colab-df-convert {\n",
              "      background-color: #E8F0FE;\n",
              "      border: none;\n",
              "      border-radius: 50%;\n",
              "      cursor: pointer;\n",
              "      display: none;\n",
              "      fill: #1967D2;\n",
              "      height: 32px;\n",
              "      padding: 0 0 0 0;\n",
              "      width: 32px;\n",
              "    }\n",
              "\n",
              "    .colab-df-convert:hover {\n",
              "      background-color: #E2EBFA;\n",
              "      box-shadow: 0px 1px 2px rgba(60, 64, 67, 0.3), 0px 1px 3px 1px rgba(60, 64, 67, 0.15);\n",
              "      fill: #174EA6;\n",
              "    }\n",
              "\n",
              "    .colab-df-buttons div {\n",
              "      margin-bottom: 4px;\n",
              "    }\n",
              "\n",
              "    [theme=dark] .colab-df-convert {\n",
              "      background-color: #3B4455;\n",
              "      fill: #D2E3FC;\n",
              "    }\n",
              "\n",
              "    [theme=dark] .colab-df-convert:hover {\n",
              "      background-color: #434B5C;\n",
              "      box-shadow: 0px 1px 3px 1px rgba(0, 0, 0, 0.15);\n",
              "      filter: drop-shadow(0px 1px 2px rgba(0, 0, 0, 0.3));\n",
              "      fill: #FFFFFF;\n",
              "    }\n",
              "  </style>\n",
              "\n",
              "    <script>\n",
              "      const buttonEl =\n",
              "        document.querySelector('#df-6dfde10b-1898-4cc1-8c00-40848de7daaa button.colab-df-convert');\n",
              "      buttonEl.style.display =\n",
              "        google.colab.kernel.accessAllowed ? 'block' : 'none';\n",
              "\n",
              "      async function convertToInteractive(key) {\n",
              "        const element = document.querySelector('#df-6dfde10b-1898-4cc1-8c00-40848de7daaa');\n",
              "        const dataTable =\n",
              "          await google.colab.kernel.invokeFunction('convertToInteractive',\n",
              "                                                    [key], {});\n",
              "        if (!dataTable) return;\n",
              "\n",
              "        const docLinkHtml = 'Like what you see? Visit the ' +\n",
              "          '<a target=\"_blank\" href=https://colab.research.google.com/notebooks/data_table.ipynb>data table notebook</a>'\n",
              "          + ' to learn more about interactive tables.';\n",
              "        element.innerHTML = '';\n",
              "        dataTable['output_type'] = 'display_data';\n",
              "        await google.colab.output.renderOutput(dataTable, element);\n",
              "        const docLink = document.createElement('div');\n",
              "        docLink.innerHTML = docLinkHtml;\n",
              "        element.appendChild(docLink);\n",
              "      }\n",
              "    </script>\n",
              "  </div>\n",
              "\n",
              "\n",
              "<div id=\"df-b98375be-9f0b-4a66-8d40-2de74fb7b03c\">\n",
              "  <button class=\"colab-df-quickchart\" onclick=\"quickchart('df-b98375be-9f0b-4a66-8d40-2de74fb7b03c')\"\n",
              "            title=\"Suggest charts\"\n",
              "            style=\"display:none;\">\n",
              "\n",
              "<svg xmlns=\"http://www.w3.org/2000/svg\" height=\"24px\"viewBox=\"0 0 24 24\"\n",
              "     width=\"24px\">\n",
              "    <g>\n",
              "        <path d=\"M19 3H5c-1.1 0-2 .9-2 2v14c0 1.1.9 2 2 2h14c1.1 0 2-.9 2-2V5c0-1.1-.9-2-2-2zM9 17H7v-7h2v7zm4 0h-2V7h2v10zm4 0h-2v-4h2v4z\"/>\n",
              "    </g>\n",
              "</svg>\n",
              "  </button>\n",
              "\n",
              "<style>\n",
              "  .colab-df-quickchart {\n",
              "      --bg-color: #E8F0FE;\n",
              "      --fill-color: #1967D2;\n",
              "      --hover-bg-color: #E2EBFA;\n",
              "      --hover-fill-color: #174EA6;\n",
              "      --disabled-fill-color: #AAA;\n",
              "      --disabled-bg-color: #DDD;\n",
              "  }\n",
              "\n",
              "  [theme=dark] .colab-df-quickchart {\n",
              "      --bg-color: #3B4455;\n",
              "      --fill-color: #D2E3FC;\n",
              "      --hover-bg-color: #434B5C;\n",
              "      --hover-fill-color: #FFFFFF;\n",
              "      --disabled-bg-color: #3B4455;\n",
              "      --disabled-fill-color: #666;\n",
              "  }\n",
              "\n",
              "  .colab-df-quickchart {\n",
              "    background-color: var(--bg-color);\n",
              "    border: none;\n",
              "    border-radius: 50%;\n",
              "    cursor: pointer;\n",
              "    display: none;\n",
              "    fill: var(--fill-color);\n",
              "    height: 32px;\n",
              "    padding: 0;\n",
              "    width: 32px;\n",
              "  }\n",
              "\n",
              "  .colab-df-quickchart:hover {\n",
              "    background-color: var(--hover-bg-color);\n",
              "    box-shadow: 0 1px 2px rgba(60, 64, 67, 0.3), 0 1px 3px 1px rgba(60, 64, 67, 0.15);\n",
              "    fill: var(--button-hover-fill-color);\n",
              "  }\n",
              "\n",
              "  .colab-df-quickchart-complete:disabled,\n",
              "  .colab-df-quickchart-complete:disabled:hover {\n",
              "    background-color: var(--disabled-bg-color);\n",
              "    fill: var(--disabled-fill-color);\n",
              "    box-shadow: none;\n",
              "  }\n",
              "\n",
              "  .colab-df-spinner {\n",
              "    border: 2px solid var(--fill-color);\n",
              "    border-color: transparent;\n",
              "    border-bottom-color: var(--fill-color);\n",
              "    animation:\n",
              "      spin 1s steps(1) infinite;\n",
              "  }\n",
              "\n",
              "  @keyframes spin {\n",
              "    0% {\n",
              "      border-color: transparent;\n",
              "      border-bottom-color: var(--fill-color);\n",
              "      border-left-color: var(--fill-color);\n",
              "    }\n",
              "    20% {\n",
              "      border-color: transparent;\n",
              "      border-left-color: var(--fill-color);\n",
              "      border-top-color: var(--fill-color);\n",
              "    }\n",
              "    30% {\n",
              "      border-color: transparent;\n",
              "      border-left-color: var(--fill-color);\n",
              "      border-top-color: var(--fill-color);\n",
              "      border-right-color: var(--fill-color);\n",
              "    }\n",
              "    40% {\n",
              "      border-color: transparent;\n",
              "      border-right-color: var(--fill-color);\n",
              "      border-top-color: var(--fill-color);\n",
              "    }\n",
              "    60% {\n",
              "      border-color: transparent;\n",
              "      border-right-color: var(--fill-color);\n",
              "    }\n",
              "    80% {\n",
              "      border-color: transparent;\n",
              "      border-right-color: var(--fill-color);\n",
              "      border-bottom-color: var(--fill-color);\n",
              "    }\n",
              "    90% {\n",
              "      border-color: transparent;\n",
              "      border-bottom-color: var(--fill-color);\n",
              "    }\n",
              "  }\n",
              "</style>\n",
              "\n",
              "  <script>\n",
              "    async function quickchart(key) {\n",
              "      const quickchartButtonEl =\n",
              "        document.querySelector('#' + key + ' button');\n",
              "      quickchartButtonEl.disabled = true;  // To prevent multiple clicks.\n",
              "      quickchartButtonEl.classList.add('colab-df-spinner');\n",
              "      try {\n",
              "        const charts = await google.colab.kernel.invokeFunction(\n",
              "            'suggestCharts', [key], {});\n",
              "      } catch (error) {\n",
              "        console.error('Error during call to suggestCharts:', error);\n",
              "      }\n",
              "      quickchartButtonEl.classList.remove('colab-df-spinner');\n",
              "      quickchartButtonEl.classList.add('colab-df-quickchart-complete');\n",
              "    }\n",
              "    (() => {\n",
              "      let quickchartButtonEl =\n",
              "        document.querySelector('#df-b98375be-9f0b-4a66-8d40-2de74fb7b03c button');\n",
              "      quickchartButtonEl.style.display =\n",
              "        google.colab.kernel.accessAllowed ? 'block' : 'none';\n",
              "    })();\n",
              "  </script>\n",
              "</div>\n",
              "    </div>\n",
              "  </div>\n"
            ]
          },
          "metadata": {},
          "execution_count": 6
        }
      ]
    },
    {
      "cell_type": "code",
      "source": [
        "X = np.array(df[[\"Hours\",\"Attendance\"]])\n",
        "y = np.array(df['Label'])\n",
        "plot_points(X,y)\n",
        "plt.show()"
      ],
      "metadata": {
        "id": "jxrf8nIOynWa",
        "colab": {
          "base_uri": "https://localhost:8080/",
          "height": 430
        },
        "outputId": "b8fa80ca-02c0-4fb8-852a-dddbcf4553e2"
      },
      "execution_count": null,
      "outputs": [
        {
          "output_type": "display_data",
          "data": {
            "text/plain": [
              "<Figure size 640x480 with 1 Axes>"
            ],
            "image/png": "[encoded data removed]"
          },
          "metadata": {}
        }
      ]
    },
    {
      "cell_type": "markdown",
      "source": [
        "## TODO: Implementing the basic functions\n",
        "Here is your turn to shine. Implement the following formulas, as explained in the text.\n",
        "- Sigmoid activation function\n",
        "\n",
        "$$\\sigma(x) = \\frac{1}{1+e^{-x}}$$\n",
        "\n",
        "- Output (prediction) formula\n",
        "\n",
        "$$\\hat{y} = \\sigma(w_1 x_1 + w_2 x_2 + b)$$\n",
        "\n",
        "- Error function\n",
        "\n",
        "$$Error(y, \\hat{y}) = - y \\log(\\hat{y}) - (1-y) \\log(1-\\hat{y})$$\n",
        "\n",
        "- The function that updates the weights\n",
        "\n",
        "$$ w_i \\longrightarrow w_i + \\alpha (y - \\hat{y}) x_i$$\n",
        "\n",
        "$$ b \\longrightarrow b + \\alpha (y - \\hat{y})$$"
      ],
      "metadata": {
        "id": "cvP8hDzH0Tlm"
      }
    },
    {
      "cell_type": "code",
      "source": [
        "# TODO: Implement the following functions\n",
        "# Activation (sigmoid) function\n",
        "def sigmoid(x):\n",
        "    return\n",
        "\n",
        "# Output (prediction) formula\n",
        "def output_formula(features, weights, bias):\n",
        "    return\n",
        "\n",
        "# Error (log-loss) formula (cross entropy)\n",
        "def error_formula(y, output):\n",
        "    return\n",
        "\n",
        "\n",
        "# Gradient descent step\n",
        "def update_weights(x, y, weights, bias, learnrate):\n",
        "    output =\n",
        "    error =\n",
        "    weights +=\n",
        "    bias +=\n",
        "    return weights, bias"
      ],
      "metadata": {
        "id": "0hfjXx6oz_oc"
      },
      "execution_count": null,
      "outputs": []
    },
    {
      "cell_type": "markdown",
      "source": [
        "### Training Function (using GD)"
      ],
      "metadata": {
        "id": "rE4lPtcD0mZL"
      }
    },
    {
      "cell_type": "code",
      "source": [
        "# TODO: Complete this code\n",
        "np.random.seed(44) # it is for reproducibility, it helps define the random distribution\n",
        "epochs =\n",
        "learnrate =\n",
        "\n",
        "def train(features, targets, epochs, learnrate, graph_lines=False):\n",
        "    errors = []\n",
        "    n_records, n_features = features.shape\n",
        "    last_loss = None\n",
        "    weights = np.random.normal(scale=1 / n_features**.5, size=n_features)\n",
        "    bias = 0\n",
        "\n",
        "    # CHANGE HERE\n",
        "    for e in range(epochs):\n",
        "        del_w = np.zeros(weights.shape)\n",
        "        for x, y in zip(features, targets):\n",
        "            output =\n",
        "            error =\n",
        "            weights, bias =\n",
        "\n",
        "        # STOP CHANGING\n",
        "        # Printing out the log-loss error on the training set\n",
        "        out = output_formula(features, weights, bias)\n",
        "        loss = np.mean(error_formula(targets, out))\n",
        "        errors.append(loss)\n",
        "        if e % (epochs / 10) == 0:\n",
        "            print(\"\\n========== Epoch\", e,\"==========\")\n",
        "            if last_loss and last_loss < loss:\n",
        "                print(\"Train loss: \", loss, \"  WARNING - Loss Increasing\")\n",
        "            else:\n",
        "                print(\"Train loss: \", loss)\n",
        "            last_loss = loss\n",
        "            predictions = out > 0.5\n",
        "            accuracy = np.mean(predictions == targets)\n",
        "            print(\"Accuracy: \", accuracy)\n",
        "        if graph_lines and e % (epochs / 100) == 0:\n",
        "            display(-weights[0]/weights[1], -bias/weights[1])\n",
        "\n",
        "\n",
        "    # Plotting the solution boundary\n",
        "    plt.title(\"Solution boundary\")\n",
        "    display(-weights[0]/weights[1], -bias/weights[1], 'black')\n",
        "\n",
        "    # Plotting the data\n",
        "    plot_points(features, targets)\n",
        "    plt.show()\n",
        "\n",
        "    # Plotting the error\n",
        "    plt.title(\"Error Plot\")\n",
        "    plt.xlabel('Number of epochs')\n",
        "    plt.ylabel('Error')\n",
        "    plt.plot(errors)\n",
        "    plt.show()"
      ],
      "metadata": {
        "id": "7DnhNpTc0ZzV"
      },
      "execution_count": null,
      "outputs": []
    },
    {
      "cell_type": "markdown",
      "source": [
        "###🏋️‍♂️ Training Time: Watch the Algorithm Learn!\n",
        "\n",
        "By initiating the training function, we're going to witness our model's learning process in real-time! Here's what to expect as the magic unfolds:\n",
        "\n",
        "* **Progress Updates:** Get ready for a series of 10 informative updates, complete with the current training loss and accuracy metrics. Watch as the numbers evolve, showcasing the algorithm's improvement with each epoch.\n",
        "\n",
        "* **Visual Insights:** A dynamic plot will bring our data to life, along with the progression of boundary lines that our model generates. Keep an eye on the black line – that's our model's final hypothesis. Observe how each iteration nudges the boundaries closer to the ideal fit. It's like watching the algorithm's thought process visualized!\n",
        "\n",
        "* **Error Trends:** Another plot will graph the journey of our error function. Anticipate a satisfying downward trend as the epochs roll by, indicating that our model is minimizing mistakes and maximizing precision.\n",
        "\n",
        "So, let's hit 'Run' and watch the algorithm flex its computational muscles towards achieving peak performance! 🚀"
      ],
      "metadata": {
        "id": "wjSOTu4r1K92"
      }
    },
    {
      "cell_type": "code",
      "source": [
        "train(X, y, epochs, learnrate, True)"
      ],
      "metadata": {
        "id": "RGPhVQpu05Jq",
        "colab": {
          "base_uri": "https://localhost:8080/",
          "height": 1000
        },
        "outputId": "6c0c4e45-6803-4153-9c2f-59a4cc2aec90"
      },
      "execution_count": null,
      "outputs": [
        {
          "output_type": "stream",
          "name": "stdout",
          "text": [
            "\n",
            "========== Epoch 0 ==========\n",
            "Train loss:  0.6066527671520761\n",
            "Accuracy:  0.76\n",
            "\n",
            "========== Epoch 3 ==========\n",
            "Train loss:  0.5777932091602636\n",
            "Accuracy:  0.91\n",
            "\n",
            "========== Epoch 6 ==========\n",
            "Train loss:  0.5496400838374528\n",
            "Accuracy:  0.91\n",
            "\n",
            "========== Epoch 9 ==========\n",
            "Train loss:  0.5236190949625279\n",
            "Accuracy:  0.91\n",
            "\n",
            "========== Epoch 12 ==========\n",
            "Train loss:  0.5002756032265497\n",
            "Accuracy:  0.92\n",
            "\n",
            "========== Epoch 15 ==========\n",
            "Train loss:  0.47943817983604914\n",
            "Accuracy:  0.92\n",
            "\n",
            "========== Epoch 18 ==========\n",
            "Train loss:  0.4608041888961253\n",
            "Accuracy:  0.93\n",
            "\n",
            "========== Epoch 21 ==========\n",
            "Train loss:  0.44408036236634985\n",
            "Accuracy:  0.93\n",
            "\n",
            "========== Epoch 24 ==========\n",
            "Train loss:  0.4290087805880707\n",
            "Accuracy:  0.94\n",
            "\n",
            "========== Epoch 27 ==========\n",
            "Train loss:  0.41536833179119825\n",
            "Accuracy:  0.94\n"
          ]
        },
        {
          "output_type": "display_data",
          "data": {
            "text/plain": [
              "<Figure size 640x480 with 1 Axes>"
            ],
            "image/png": "[encoded data removed]"
          },
          "metadata": {}
        },
        {
          "output_type": "display_data",
          "data": {
            "text/plain": [
              "<Figure size 640x480 with 1 Axes>"
            ],
            "image/png": "[encoded data removed]"
          },
          "metadata": {}
        }
      ]
    },
    {
      "cell_type": "code",
      "source": [
        "# TODO: experiment with different learning rates !\n"
      ],
      "metadata": {
        "id": "fs47mZNG1g54"
      },
      "execution_count": null,
      "outputs": []
    },
    {
      "cell_type": "markdown",
      "source": [
        "## PART2: PyTorch 🛠️\n",
        "\n",
        "PyTorch is an open-source deep learning library, widely used for applications such as computer vision and natural language processing. It is known for its flexibility and ease of use, especially when it comes to building and experimenting with neural network architectures. Developed by the Facebook AI Research lab, PyTorch provides two high-level features: Tensor computation (like NumPy) with strong GPU acceleration, and Deep Neural Networks built on a tape-based autograd system. It's particularly favored for its dynamic computational graph and efficient memory usage, which makes it a go-to tool for researchers and developers alike.\n",
        "\n",
        "### Loading the MNIST Dataset\n",
        "The MNIST dataset is a collection of 70,000 grayscale images of handwritten digits. We will load this dataset and prepare it for training our neural network. It is a \"Hello, World!\" of computer vision, providing a manageable dataset to train basic image processing and pattern recognition algorithms.\n",
        "\n",
        "Let's dive into the data loading process!\n",
        "\n"
      ],
      "metadata": {
        "id": "WTYCa_3t1vBq"
      }
    },
    {
      "cell_type": "code",
      "source": [
        "a = np.array([1, 2, 3])\n",
        "print(type(a))"
      ],
      "metadata": {
        "colab": {
          "base_uri": "https://localhost:8080/"
        },
        "id": "XjxSrfdn73LJ",
        "outputId": "f1e4d6d2-c799-424c-82e3-892b87f8314b"
      },
      "execution_count": null,
      "outputs": [
        {
          "output_type": "stream",
          "name": "stdout",
          "text": [
            "<class 'numpy.ndarray'>\n"
          ]
        }
      ]
    },
    {
      "cell_type": "code",
      "source": [
        "from torchvision import datasets, transforms\n",
        "from torch.utils.data import DataLoader\n",
        "\n",
        "# Transformations applied on each image\n",
        "transform = transforms.Compose([transforms.ToTensor(),\n",
        "                                transforms.Normalize((0.5,), (0.5,))])\n",
        "\n",
        "# Loading MNIST dataset from torchvision\n",
        "train_set = datasets.MNIST(root='./data', train=True, download=True, transform=transform)\n",
        "train_loader = DataLoader(train_set, batch_size=64, shuffle=True)\n",
        "\n",
        "# TODO: Load the test set (Use the same thing as train_set)\n",
        "test_set =\n",
        "test_loader ="
      ],
      "metadata": {
        "id": "sUfzto4_2Lqi",
        "colab": {
          "base_uri": "https://localhost:8080/"
        },
        "outputId": "7fa7e64c-00d0-4ebd-96f3-508d36780cf5"
      },
      "execution_count": null,
      "outputs": [
        {
          "output_type": "stream",
          "name": "stdout",
          "text": [
            "Downloading http://yann.lecun.com/exdb/mnist/train-images-idx3-ubyte.gz\n",
            "Downloading http://yann.lecun.com/exdb/mnist/train-images-idx3-ubyte.gz to ./data/MNIST/raw/train-images-idx3-ubyte.gz\n"
          ]
        },
        {
          "output_type": "stream",
          "name": "stderr",
          "text": [
            "100%|██████████| 9912422/9912422 [00:00<00:00, 148944816.11it/s]\n"
          ]
        },
        {
          "output_type": "stream",
          "name": "stdout",
          "text": [
            "Extracting ./data/MNIST/raw/train-images-idx3-ubyte.gz to ./data/MNIST/raw\n",
            "\n",
            "Downloading http://yann.lecun.com/exdb/mnist/train-labels-idx1-ubyte.gz\n",
            "Downloading http://yann.lecun.com/exdb/mnist/train-labels-idx1-ubyte.gz to ./data/MNIST/raw/train-labels-idx1-ubyte.gz\n"
          ]
        },
        {
          "output_type": "stream",
          "name": "stderr",
          "text": [
            "100%|██████████| 28881/28881 [00:00<00:00, 29917434.88it/s]\n"
          ]
        },
        {
          "output_type": "stream",
          "name": "stdout",
          "text": [
            "Extracting ./data/MNIST/raw/train-labels-idx1-ubyte.gz to ./data/MNIST/raw\n",
            "\n",
            "Downloading http://yann.lecun.com/exdb/mnist/t10k-images-idx3-ubyte.gz\n",
            "Downloading http://yann.lecun.com/exdb/mnist/t10k-images-idx3-ubyte.gz to ./data/MNIST/raw/t10k-images-idx3-ubyte.gz\n"
          ]
        },
        {
          "output_type": "stream",
          "name": "stderr",
          "text": [
            "100%|██████████| 1648877/1648877 [00:00<00:00, 37129312.52it/s]"
          ]
        },
        {
          "output_type": "stream",
          "name": "stdout",
          "text": [
            "Extracting ./data/MNIST/raw/t10k-images-idx3-ubyte.gz to ./data/MNIST/raw\n"
          ]
        },
        {
          "output_type": "stream",
          "name": "stderr",
          "text": [
            "\n"
          ]
        },
        {
          "output_type": "stream",
          "name": "stdout",
          "text": [
            "\n",
            "Downloading http://yann.lecun.com/exdb/mnist/t10k-labels-idx1-ubyte.gz\n",
            "Downloading http://yann.lecun.com/exdb/mnist/t10k-labels-idx1-ubyte.gz to ./data/MNIST/raw/t10k-labels-idx1-ubyte.gz\n"
          ]
        },
        {
          "output_type": "stream",
          "name": "stderr",
          "text": [
            "100%|██████████| 4542/4542 [00:00<00:00, 11839980.59it/s]\n"
          ]
        },
        {
          "output_type": "stream",
          "name": "stdout",
          "text": [
            "Extracting ./data/MNIST/raw/t10k-labels-idx1-ubyte.gz to ./data/MNIST/raw\n",
            "\n"
          ]
        }
      ]
    },
    {
      "cell_type": "markdown",
      "source": [
        "## Displaying Images and Their Labels\n",
        "Let's visualize some of the images in our dataset along with their corresponding labels.\n"
      ],
      "metadata": {
        "id": "D7i9YtTv2br6"
      }
    },
    {
      "cell_type": "code",
      "source": [
        "import matplotlib.pyplot as plt\n",
        "\n",
        "# Function to display images\n",
        "def show_images(images, labels):\n",
        "    plt.figure(figsize=(10, 4))\n",
        "    for i in range(20):\n",
        "        plt.subplot(2, 10, i+1)\n",
        "        plt.imshow(images[i].numpy().squeeze(), cmap='gray_r')\n",
        "        plt.title(labels[i].item())\n",
        "        plt.axis('off')\n",
        "    plt.show()\n",
        "\n",
        "# Get some random training images\n",
        "dataiter = iter(train_loader)\n",
        "images, labels = next(dataiter)\n",
        "# Display images\n",
        "show_images(images, labels)\n",
        "\n",
        "\n",
        "# TODO: Explore different batches and display their images and labels"
      ],
      "metadata": {
        "id": "mFUCgFDD2Z3G",
        "colab": {
          "base_uri": "https://localhost:8080/",
          "height": 293
        },
        "outputId": "b43b00f9-22d5-43a1-bd29-6c168d9711db"
      },
      "execution_count": null,
      "outputs": [
        {
          "output_type": "display_data",
          "data": {
            "text/plain": [
              "<Figure size 1000x400 with 20 Axes>"
            ],
            "image/png": "[encoded data removed]"
          },
          "metadata": {}
        }
      ]
    },
    {
      "cell_type": "markdown",
      "source": [
        "## Building a Fully Connected Neural Network\n",
        "We will now define our neural network architecture. We'll start with a simple fully connected network with a single hidden layer.\n",
        "\n",
        "When using an image in a fully connected neural network, we need to change its dimension.\n",
        "![](https://miro.medium.com/v2/resize:fit:1400/1*IWUxuBpqn2VuV-7Ubr01ng.png)"
      ],
      "metadata": {
        "id": "AuRCg-j42ftg"
      }
    },
    {
      "cell_type": "code",
      "source": [
        "# TODO: Complete this code\n",
        "# Fill the size of the input and output to the layer\n",
        "import torch.nn as nn\n",
        "import torch.nn.functional as F\n",
        "\n",
        "# Neural network with a single fully connected layer\n",
        "class SimpleNet(nn.Module):\n",
        "    # executed when model is created\n",
        "    def __init__(self):\n",
        "        super(SimpleNet, self).__init__()\n",
        "        self.fc1 = nn.Linear()  # TODO: Define the fully connected layer\n",
        "\n",
        "    # executed when model is called to get output\n",
        "    def forward(self, x):\n",
        "        x = x.view(-1, )  # Flatten the image\n",
        "        x = self.fc1(x) # w1x1 + w2x2+w3x3.... + w784x784 + b\n",
        "        return F.log_softmax(x, dim=1) # turn output to probabilities\n",
        "\n",
        "# Create an instance of the network\n",
        "model = SimpleNet()\n",
        "print(model)"
      ],
      "metadata": {
        "id": "ubtYih7a2i6-",
        "colab": {
          "base_uri": "https://localhost:8080/"
        },
        "outputId": "43d6a597-e0cc-4a4d-b852-dde901339265"
      },
      "execution_count": null,
      "outputs": [
        {
          "output_type": "stream",
          "name": "stdout",
          "text": [
            "SimpleNet(\n",
            "  (fc1): Linear(in_features=784, out_features=10, bias=True)\n",
            ")\n"
          ]
        }
      ]
    },
    {
      "cell_type": "markdown",
      "source": [
        "## Training the Model\n",
        "Next, we'll define the training loop. We will train our model using gradient descent.\n"
      ],
      "metadata": {
        "id": "dHxycsC23AIu"
      }
    },
    {
      "cell_type": "code",
      "source": [
        "# TODO: Complete this code\n",
        "import torch.optim as optim\n",
        "\n",
        "# Loss function and optimizer\n",
        "criterion =  # loss function\n",
        "optimizer = optim.SGD()\n",
        "\n",
        "# Training loop\n",
        "for epoch in range(10):  # loop over the dataset multiple times\n",
        "    running_loss = 0.0\n",
        "    for images, labels in train_loader:\n",
        "        # TODO: Complete the training loop\n",
        "        # nullify the gradients\n",
        "        optimizer.zero_grad()\n",
        "        # compute outputs\n",
        "        outputs =\n",
        "\n",
        "        # compute loss\n",
        "        loss =\n",
        "\n",
        "        # execute backward and optimize\n",
        "        loss.\n",
        "        optimizer.\n",
        "\n",
        "        running_loss += loss.item()\n",
        "\n",
        "    print(f\"Epoch {epoch+1}, Loss {running_loss/len(train_loader)} \")\n",
        "\n",
        "# Print model's state_dict\n",
        "print(\"Model's state_dict:\")\n",
        "for param_tensor in model.state_dict():\n",
        "    print(param_tensor, \"\\t\", model.state_dict()[param_tensor].size())"
      ],
      "metadata": {
        "id": "2mw-uqnS2-pk",
        "colab": {
          "base_uri": "https://localhost:8080/"
        },
        "outputId": "85965cfb-d36b-43f7-febf-ef28c73df1b3"
      },
      "execution_count": null,
      "outputs": [
        {
          "output_type": "stream",
          "name": "stdout",
          "text": [
            "Epoch 1, Loss 28.017272781811034 \n",
            "Epoch 2, Loss 23.918863086049743 \n",
            "Epoch 3, Loss 22.84679045669411 \n",
            "Epoch 4, Loss 22.378968476105346 \n",
            "Epoch 5, Loss 22.124428437544914 \n",
            "Epoch 6, Loss 21.943688250538003 \n",
            "Epoch 7, Loss 21.796057256024117 \n",
            "Epoch 8, Loss 21.68666160945445 \n",
            "Epoch 9, Loss 21.572046463099767 \n",
            "Epoch 10, Loss 21.467416993550845 \n",
            "Model's state_dict:\n",
            "fc1.weight \t torch.Size([10, 784])\n",
            "fc1.bias \t torch.Size([10])\n"
          ]
        }
      ]
    },
    {
      "cell_type": "markdown",
      "source": [
        "## Model Evaluation\n",
        "Finally, let's evaluate the performance of our model on the test dataset.\n"
      ],
      "metadata": {
        "id": "3mgc-dyt3K40"
      }
    },
    {
      "cell_type": "code",
      "source": [
        "# TODO: Write the evaluation loop"
      ],
      "metadata": {
        "id": "p4EPFOqy3LNU"
      },
      "execution_count": null,
      "outputs": []
    },
    {
      "cell_type": "markdown",
      "source": [
        "# Conclusion\n",
        "In this notebook, we covered the basics of loading a dataset, visualizing it, building a simple neural network, and training it. We encourage you to experiment with different network architectures, learning rates, and other hyperparameters.\n",
        "\n",
        "## Additional Resources\n",
        "- [PyTorch Official Documentation](https://pytorch.org/docs/stable/index.html)\n",
        "- [Deep Learning with PyTorch: A 60 Minute Blitz](https://pytorch.org/tutorials/beginner/deep_learning_60min_blitz.html)\n",
        "- [Neural Networks and Deep Learning by Michael Nielsen](http://neuralnetworksanddeeplearning\n"
      ],
      "metadata": {
        "id": "KyHEj3T53NQ7"
      }
    }
  ]
}